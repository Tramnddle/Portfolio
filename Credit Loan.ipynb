{
 "cells": [
  {
   "cell_type": "code",
   "execution_count": 1,
   "metadata": {},
   "outputs": [],
   "source": [
    "import pandas as pd\n",
    "import numpy as np\n",
    "import matplotlib.pyplot as plt\n",
    "import seaborn as sns\n",
    "\n",
    "import warnings\n",
    "warnings.filterwarnings('ignore')"
   ]
  },
  {
   "cell_type": "code",
   "execution_count": 2,
   "metadata": {},
   "outputs": [
    {
     "data": {
      "text/html": [
       "<div>\n",
       "<style scoped>\n",
       "    .dataframe tbody tr th:only-of-type {\n",
       "        vertical-align: middle;\n",
       "    }\n",
       "\n",
       "    .dataframe tbody tr th {\n",
       "        vertical-align: top;\n",
       "    }\n",
       "\n",
       "    .dataframe thead th {\n",
       "        text-align: right;\n",
       "    }\n",
       "</style>\n",
       "<table border=\"1\" class=\"dataframe\">\n",
       "  <thead>\n",
       "    <tr style=\"text-align: right;\">\n",
       "      <th></th>\n",
       "      <th>key</th>\n",
       "      <th>grade</th>\n",
       "      <th>home_ownership</th>\n",
       "      <th>purpose</th>\n",
       "      <th>verification_status</th>\n",
       "      <th>term</th>\n",
       "      <th>emp_length_int</th>\n",
       "      <th>mths_since_issue_d</th>\n",
       "      <th>int_rate</th>\n",
       "      <th>mths_since_earliest_cr_line</th>\n",
       "      <th>acc_now_delinq</th>\n",
       "      <th>inq_last_6mths</th>\n",
       "      <th>annual_inc</th>\n",
       "      <th>dti</th>\n",
       "      <th>good_bad</th>\n",
       "    </tr>\n",
       "  </thead>\n",
       "  <tbody>\n",
       "    <tr>\n",
       "      <th>0</th>\n",
       "      <td>21753</td>\n",
       "      <td>D</td>\n",
       "      <td>RENT</td>\n",
       "      <td>debt_consolidation</td>\n",
       "      <td>Verified</td>\n",
       "      <td>36</td>\n",
       "      <td>0 year(s)</td>\n",
       "      <td>58</td>\n",
       "      <td>17.77</td>\n",
       "      <td>343</td>\n",
       "      <td>0</td>\n",
       "      <td>2.0</td>\n",
       "      <td>45000.0</td>\n",
       "      <td>19.07</td>\n",
       "      <td>0</td>\n",
       "    </tr>\n",
       "    <tr>\n",
       "      <th>1</th>\n",
       "      <td>251</td>\n",
       "      <td>B</td>\n",
       "      <td>RENT</td>\n",
       "      <td>credit_card</td>\n",
       "      <td>Source Verified</td>\n",
       "      <td>36</td>\n",
       "      <td>4 year(s)</td>\n",
       "      <td>46</td>\n",
       "      <td>12.85</td>\n",
       "      <td>178</td>\n",
       "      <td>0</td>\n",
       "      <td>0.0</td>\n",
       "      <td>24000.0</td>\n",
       "      <td>5.10</td>\n",
       "      <td>1</td>\n",
       "    </tr>\n",
       "    <tr>\n",
       "      <th>2</th>\n",
       "      <td>22941</td>\n",
       "      <td>B</td>\n",
       "      <td>MORTGAGE</td>\n",
       "      <td>car</td>\n",
       "      <td>Not Verified</td>\n",
       "      <td>36</td>\n",
       "      <td>5 year(s)</td>\n",
       "      <td>52</td>\n",
       "      <td>11.55</td>\n",
       "      <td>264</td>\n",
       "      <td>0</td>\n",
       "      <td>1.0</td>\n",
       "      <td>79000.0</td>\n",
       "      <td>13.99</td>\n",
       "      <td>1</td>\n",
       "    </tr>\n",
       "    <tr>\n",
       "      <th>3</th>\n",
       "      <td>618</td>\n",
       "      <td>C</td>\n",
       "      <td>RENT</td>\n",
       "      <td>credit_card</td>\n",
       "      <td>Not Verified</td>\n",
       "      <td>36</td>\n",
       "      <td>1 year(s)</td>\n",
       "      <td>37</td>\n",
       "      <td>14.31</td>\n",
       "      <td>87</td>\n",
       "      <td>0</td>\n",
       "      <td>0.0</td>\n",
       "      <td>25000.0</td>\n",
       "      <td>16.61</td>\n",
       "      <td>1</td>\n",
       "    </tr>\n",
       "    <tr>\n",
       "      <th>4</th>\n",
       "      <td>17090</td>\n",
       "      <td>A</td>\n",
       "      <td>MORTGAGE</td>\n",
       "      <td>home_improvement</td>\n",
       "      <td>Verified</td>\n",
       "      <td>36</td>\n",
       "      <td>3 year(s)</td>\n",
       "      <td>42</td>\n",
       "      <td>8.39</td>\n",
       "      <td>267</td>\n",
       "      <td>0</td>\n",
       "      <td>0.0</td>\n",
       "      <td>158000.0</td>\n",
       "      <td>2.83</td>\n",
       "      <td>1</td>\n",
       "    </tr>\n",
       "  </tbody>\n",
       "</table>\n",
       "</div>"
      ],
      "text/plain": [
       "     key grade home_ownership             purpose verification_status  term  \\\n",
       "0  21753     D           RENT  debt_consolidation            Verified    36   \n",
       "1    251     B           RENT         credit_card     Source Verified    36   \n",
       "2  22941     B       MORTGAGE                 car        Not Verified    36   \n",
       "3    618     C           RENT         credit_card        Not Verified    36   \n",
       "4  17090     A       MORTGAGE    home_improvement            Verified    36   \n",
       "\n",
       "  emp_length_int  mths_since_issue_d  int_rate  mths_since_earliest_cr_line  \\\n",
       "0      0 year(s)                  58     17.77                          343   \n",
       "1      4 year(s)                  46     12.85                          178   \n",
       "2      5 year(s)                  52     11.55                          264   \n",
       "3      1 year(s)                  37     14.31                           87   \n",
       "4      3 year(s)                  42      8.39                          267   \n",
       "\n",
       "   acc_now_delinq  inq_last_6mths  annual_inc    dti  good_bad  \n",
       "0               0             2.0     45000.0  19.07         0  \n",
       "1               0             0.0     24000.0   5.10         1  \n",
       "2               0             1.0     79000.0  13.99         1  \n",
       "3               0             0.0     25000.0  16.61         1  \n",
       "4               0             0.0    158000.0   2.83         1  "
      ]
     },
     "execution_count": 2,
     "metadata": {},
     "output_type": "execute_result"
    }
   ],
   "source": [
    "loan_data = pd.read_csv(r'D:\\Python\\CE_1_loan_data_train.csv', encoding=\"ISO-8859-1\")\n",
    "loan_data.head()"
   ]
  },
  {
   "cell_type": "code",
   "execution_count": 3,
   "metadata": {},
   "outputs": [
    {
     "name": "stdout",
     "output_type": "stream",
     "text": [
      "<class 'pandas.core.frame.DataFrame'>\n",
      "RangeIndex: 24000 entries, 0 to 23999\n",
      "Data columns (total 15 columns):\n",
      " #   Column                       Non-Null Count  Dtype  \n",
      "---  ------                       --------------  -----  \n",
      " 0   key                          24000 non-null  int64  \n",
      " 1   grade                        24000 non-null  object \n",
      " 2   home_ownership               24000 non-null  object \n",
      " 3   purpose                      24000 non-null  object \n",
      " 4   verification_status          24000 non-null  object \n",
      " 5   term                         24000 non-null  int64  \n",
      " 6   emp_length_int               24000 non-null  object \n",
      " 7   mths_since_issue_d           24000 non-null  int64  \n",
      " 8   int_rate                     24000 non-null  float64\n",
      " 9   mths_since_earliest_cr_line  24000 non-null  int64  \n",
      " 10  acc_now_delinq               24000 non-null  int64  \n",
      " 11  inq_last_6mths               23794 non-null  float64\n",
      " 12  annual_inc                   24000 non-null  float64\n",
      " 13  dti                          24000 non-null  float64\n",
      " 14  good_bad                     24000 non-null  int64  \n",
      "dtypes: float64(4), int64(6), object(5)\n",
      "memory usage: 2.7+ MB\n"
     ]
    }
   ],
   "source": [
    "loan_data.info()"
   ]
  },
  {
   "cell_type": "code",
   "execution_count": 5,
   "metadata": {},
   "outputs": [
    {
     "data": {
      "text/plain": [
       "10 year(s)    7730\n",
       "0 year(s)     3022\n",
       "2 year(s)     2167\n",
       "3 year(s)     1854\n",
       "5 year(s)     1568\n",
       "1 year(s)     1503\n",
       "4 year(s)     1457\n",
       "7 year(s)     1374\n",
       "6 year(s)     1310\n",
       "8 year(s)     1171\n",
       "9 year(s)      844\n",
       "Name: emp_length_int, dtype: int64"
      ]
     },
     "execution_count": 5,
     "metadata": {},
     "output_type": "execute_result"
    }
   ],
   "source": [
    "loan_data['emp_length_int'].value_counts()"
   ]
  },
  {
   "cell_type": "code",
   "execution_count": 12,
   "metadata": {},
   "outputs": [
    {
     "data": {
      "text/plain": [
       "'0'"
      ]
     },
     "execution_count": 12,
     "metadata": {},
     "output_type": "execute_result"
    }
   ],
   "source": [
    "loan_data['emp_length_int'][0][:-8]"
   ]
  },
  {
   "cell_type": "code",
   "execution_count": 8,
   "metadata": {},
   "outputs": [],
   "source": [
    "s=loan_data['emp_length_int'][0].replace('year(s)','')"
   ]
  },
  {
   "cell_type": "code",
   "execution_count": 9,
   "metadata": {},
   "outputs": [
    {
     "data": {
      "text/plain": [
       "'0 '"
      ]
     },
     "execution_count": 9,
     "metadata": {},
     "output_type": "execute_result"
    }
   ],
   "source": [
    "s"
   ]
  },
  {
   "cell_type": "code",
   "execution_count": 15,
   "metadata": {},
   "outputs": [],
   "source": [
    "change_type = lambda x: int(x[:-8])\n",
    "loan_data['emp_length_int']=loan_data['emp_length_int'].apply(change_type)"
   ]
  },
  {
   "cell_type": "code",
   "execution_count": 16,
   "metadata": {},
   "outputs": [
    {
     "data": {
      "text/plain": [
       "0        0\n",
       "1        4\n",
       "2        5\n",
       "3        1\n",
       "4        3\n",
       "        ..\n",
       "23995    7\n",
       "23996    0\n",
       "23997    2\n",
       "23998    1\n",
       "23999    8\n",
       "Name: emp_length_int, Length: 24000, dtype: int64"
      ]
     },
     "execution_count": 16,
     "metadata": {},
     "output_type": "execute_result"
    }
   ],
   "source": [
    "loan_data['emp_length_int']"
   ]
  },
  {
   "cell_type": "code",
   "execution_count": null,
   "metadata": {},
   "outputs": [],
   "source": []
  }
 ],
 "metadata": {
  "kernelspec": {
   "display_name": "Python 3",
   "language": "python",
   "name": "python3"
  },
  "language_info": {
   "codemirror_mode": {
    "name": "ipython",
    "version": 3
   },
   "file_extension": ".py",
   "mimetype": "text/x-python",
   "name": "python",
   "nbconvert_exporter": "python",
   "pygments_lexer": "ipython3",
   "version": "3.7.6"
  }
 },
 "nbformat": 4,
 "nbformat_minor": 4
}
